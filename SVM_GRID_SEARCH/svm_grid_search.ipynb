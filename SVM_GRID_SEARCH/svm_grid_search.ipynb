{
 "cells": [
  {
   "cell_type": "code",
   "execution_count": 1,
   "metadata": {},
   "outputs": [],
   "source": [
    "import pandas as pd\n",
    "import numpy as np"
   ]
  },
  {
   "cell_type": "code",
   "execution_count": 2,
   "metadata": {},
   "outputs": [],
   "source": [
    "import seaborn as sns\n",
    "import matplotlib.pyplot as plt\n",
    "%matplotlib inline"
   ]
  },
  {
   "cell_type": "markdown",
   "metadata": {},
   "source": [
    "# READING THE FEATURE MATICES ALREADY PREPROCESSED"
   ]
  },
  {
   "cell_type": "code",
   "execution_count": 3,
   "metadata": {},
   "outputs": [],
   "source": [
    "X_train_v2 = pd.read_csv('./train_feature_matrix.csv')"
   ]
  },
  {
   "cell_type": "code",
   "execution_count": 4,
   "metadata": {},
   "outputs": [
    {
     "data": {
      "text/html": [
       "<div>\n",
       "<style>\n",
       "    .dataframe thead tr:only-child th {\n",
       "        text-align: right;\n",
       "    }\n",
       "\n",
       "    .dataframe thead th {\n",
       "        text-align: left;\n",
       "    }\n",
       "\n",
       "    .dataframe tbody tr th {\n",
       "        vertical-align: top;\n",
       "    }\n",
       "</style>\n",
       "<table border=\"1\" class=\"dataframe\">\n",
       "  <thead>\n",
       "    <tr style=\"text-align: right;\">\n",
       "      <th></th>\n",
       "      <th>Source</th>\n",
       "      <th>Sink</th>\n",
       "      <th>common_neighbors</th>\n",
       "      <th>AAprediction</th>\n",
       "      <th>exist_in_training_dataset</th>\n",
       "      <th>source_parents_count</th>\n",
       "      <th>source_non_leaf_descendants_count</th>\n",
       "      <th>source_leaf_descendans_count</th>\n",
       "      <th>sink_parent_non_leaf_descendants_count</th>\n",
       "      <th>sink_parent_leaf_descendans_count</th>\n",
       "      <th>sink_parents_count</th>\n",
       "    </tr>\n",
       "  </thead>\n",
       "  <tbody>\n",
       "    <tr>\n",
       "      <th>0</th>\n",
       "      <td>1097</td>\n",
       "      <td>83648</td>\n",
       "      <td>0</td>\n",
       "      <td>0.000000</td>\n",
       "      <td>0</td>\n",
       "      <td>21</td>\n",
       "      <td>37.0</td>\n",
       "      <td>139.0</td>\n",
       "      <td>2137</td>\n",
       "      <td>918727</td>\n",
       "      <td>2</td>\n",
       "    </tr>\n",
       "    <tr>\n",
       "      <th>1</th>\n",
       "      <td>1097</td>\n",
       "      <td>327374</td>\n",
       "      <td>0</td>\n",
       "      <td>0.000000</td>\n",
       "      <td>0</td>\n",
       "      <td>21</td>\n",
       "      <td>37.0</td>\n",
       "      <td>139.0</td>\n",
       "      <td>5028</td>\n",
       "      <td>756765</td>\n",
       "      <td>1</td>\n",
       "    </tr>\n",
       "    <tr>\n",
       "      <th>2</th>\n",
       "      <td>1097</td>\n",
       "      <td>521048</td>\n",
       "      <td>1</td>\n",
       "      <td>0.086954</td>\n",
       "      <td>0</td>\n",
       "      <td>21</td>\n",
       "      <td>37.0</td>\n",
       "      <td>139.0</td>\n",
       "      <td>104261</td>\n",
       "      <td>2866405</td>\n",
       "      <td>239</td>\n",
       "    </tr>\n",
       "    <tr>\n",
       "      <th>3</th>\n",
       "      <td>1097</td>\n",
       "      <td>1301036</td>\n",
       "      <td>0</td>\n",
       "      <td>0.000000</td>\n",
       "      <td>0</td>\n",
       "      <td>21</td>\n",
       "      <td>37.0</td>\n",
       "      <td>139.0</td>\n",
       "      <td>1559</td>\n",
       "      <td>155347</td>\n",
       "      <td>1</td>\n",
       "    </tr>\n",
       "    <tr>\n",
       "      <th>4</th>\n",
       "      <td>1097</td>\n",
       "      <td>1340379</td>\n",
       "      <td>0</td>\n",
       "      <td>0.000000</td>\n",
       "      <td>0</td>\n",
       "      <td>21</td>\n",
       "      <td>37.0</td>\n",
       "      <td>139.0</td>\n",
       "      <td>472</td>\n",
       "      <td>410947</td>\n",
       "      <td>1</td>\n",
       "    </tr>\n",
       "  </tbody>\n",
       "</table>\n",
       "</div>"
      ],
      "text/plain": [
       "   Source     Sink  common_neighbors  AAprediction  exist_in_training_dataset  \\\n",
       "0    1097    83648                 0      0.000000                          0   \n",
       "1    1097   327374                 0      0.000000                          0   \n",
       "2    1097   521048                 1      0.086954                          0   \n",
       "3    1097  1301036                 0      0.000000                          0   \n",
       "4    1097  1340379                 0      0.000000                          0   \n",
       "\n",
       "   source_parents_count  source_non_leaf_descendants_count  \\\n",
       "0                    21                               37.0   \n",
       "1                    21                               37.0   \n",
       "2                    21                               37.0   \n",
       "3                    21                               37.0   \n",
       "4                    21                               37.0   \n",
       "\n",
       "   source_leaf_descendans_count  sink_parent_non_leaf_descendants_count  \\\n",
       "0                         139.0                                    2137   \n",
       "1                         139.0                                    5028   \n",
       "2                         139.0                                  104261   \n",
       "3                         139.0                                    1559   \n",
       "4                         139.0                                     472   \n",
       "\n",
       "   sink_parent_leaf_descendans_count  sink_parents_count  \n",
       "0                             918727                   2  \n",
       "1                             756765                   1  \n",
       "2                            2866405                 239  \n",
       "3                             155347                   1  \n",
       "4                             410947                   1  "
      ]
     },
     "execution_count": 4,
     "metadata": {},
     "output_type": "execute_result"
    }
   ],
   "source": [
    "X_train_v2.head()"
   ]
  },
  {
   "cell_type": "code",
   "execution_count": 5,
   "metadata": {},
   "outputs": [],
   "source": [
    "X_test = pd.read_csv('./test_feature_matrix.csv')"
   ]
  },
  {
   "cell_type": "code",
   "execution_count": 6,
   "metadata": {},
   "outputs": [],
   "source": [
    "X_test.drop('Unnamed: 0',axis=1,inplace=True)"
   ]
  },
  {
   "cell_type": "code",
   "execution_count": null,
   "metadata": {},
   "outputs": [],
   "source": []
  },
  {
   "cell_type": "markdown",
   "metadata": {},
   "source": [
    "# STANDARDING THE DATASETS"
   ]
  },
  {
   "cell_type": "code",
   "execution_count": 7,
   "metadata": {},
   "outputs": [],
   "source": [
    "X_train_standardised = X_train_v2.drop(['exist_in_training_dataset','Source','Sink'],axis=1).apply(lambda x: np.log(x+1))"
   ]
  },
  {
   "cell_type": "code",
   "execution_count": 8,
   "metadata": {},
   "outputs": [
    {
     "data": {
      "text/html": [
       "<div>\n",
       "<style>\n",
       "    .dataframe thead tr:only-child th {\n",
       "        text-align: right;\n",
       "    }\n",
       "\n",
       "    .dataframe thead th {\n",
       "        text-align: left;\n",
       "    }\n",
       "\n",
       "    .dataframe tbody tr th {\n",
       "        vertical-align: top;\n",
       "    }\n",
       "</style>\n",
       "<table border=\"1\" class=\"dataframe\">\n",
       "  <thead>\n",
       "    <tr style=\"text-align: right;\">\n",
       "      <th></th>\n",
       "      <th>common_neighbors</th>\n",
       "      <th>AAprediction</th>\n",
       "      <th>source_parents_count</th>\n",
       "      <th>source_non_leaf_descendants_count</th>\n",
       "      <th>source_leaf_descendans_count</th>\n",
       "      <th>sink_parent_non_leaf_descendants_count</th>\n",
       "      <th>sink_parent_leaf_descendans_count</th>\n",
       "      <th>sink_parents_count</th>\n",
       "    </tr>\n",
       "  </thead>\n",
       "  <tbody>\n",
       "    <tr>\n",
       "      <th>0</th>\n",
       "      <td>0.000000</td>\n",
       "      <td>0.000000</td>\n",
       "      <td>3.091042</td>\n",
       "      <td>3.637586</td>\n",
       "      <td>4.941642</td>\n",
       "      <td>7.667626</td>\n",
       "      <td>13.730745</td>\n",
       "      <td>1.098612</td>\n",
       "    </tr>\n",
       "    <tr>\n",
       "      <th>1</th>\n",
       "      <td>0.000000</td>\n",
       "      <td>0.000000</td>\n",
       "      <td>3.091042</td>\n",
       "      <td>3.637586</td>\n",
       "      <td>4.941642</td>\n",
       "      <td>8.522976</td>\n",
       "      <td>13.536809</td>\n",
       "      <td>0.693147</td>\n",
       "    </tr>\n",
       "    <tr>\n",
       "      <th>2</th>\n",
       "      <td>0.693147</td>\n",
       "      <td>0.083379</td>\n",
       "      <td>3.091042</td>\n",
       "      <td>3.637586</td>\n",
       "      <td>4.941642</td>\n",
       "      <td>11.554662</td>\n",
       "      <td>14.868570</td>\n",
       "      <td>5.480639</td>\n",
       "    </tr>\n",
       "    <tr>\n",
       "      <th>3</th>\n",
       "      <td>0.000000</td>\n",
       "      <td>0.000000</td>\n",
       "      <td>3.091042</td>\n",
       "      <td>3.637586</td>\n",
       "      <td>4.941642</td>\n",
       "      <td>7.352441</td>\n",
       "      <td>11.953423</td>\n",
       "      <td>0.693147</td>\n",
       "    </tr>\n",
       "    <tr>\n",
       "      <th>4</th>\n",
       "      <td>0.000000</td>\n",
       "      <td>0.000000</td>\n",
       "      <td>3.091042</td>\n",
       "      <td>3.637586</td>\n",
       "      <td>4.941642</td>\n",
       "      <td>6.159095</td>\n",
       "      <td>12.926222</td>\n",
       "      <td>0.693147</td>\n",
       "    </tr>\n",
       "  </tbody>\n",
       "</table>\n",
       "</div>"
      ],
      "text/plain": [
       "   common_neighbors  AAprediction  source_parents_count  \\\n",
       "0          0.000000      0.000000              3.091042   \n",
       "1          0.000000      0.000000              3.091042   \n",
       "2          0.693147      0.083379              3.091042   \n",
       "3          0.000000      0.000000              3.091042   \n",
       "4          0.000000      0.000000              3.091042   \n",
       "\n",
       "   source_non_leaf_descendants_count  source_leaf_descendans_count  \\\n",
       "0                           3.637586                      4.941642   \n",
       "1                           3.637586                      4.941642   \n",
       "2                           3.637586                      4.941642   \n",
       "3                           3.637586                      4.941642   \n",
       "4                           3.637586                      4.941642   \n",
       "\n",
       "   sink_parent_non_leaf_descendants_count  sink_parent_leaf_descendans_count  \\\n",
       "0                                7.667626                          13.730745   \n",
       "1                                8.522976                          13.536809   \n",
       "2                               11.554662                          14.868570   \n",
       "3                                7.352441                          11.953423   \n",
       "4                                6.159095                          12.926222   \n",
       "\n",
       "   sink_parents_count  \n",
       "0            1.098612  \n",
       "1            0.693147  \n",
       "2            5.480639  \n",
       "3            0.693147  \n",
       "4            0.693147  "
      ]
     },
     "execution_count": 8,
     "metadata": {},
     "output_type": "execute_result"
    }
   ],
   "source": [
    "X_train_standardised.head()"
   ]
  },
  {
   "cell_type": "code",
   "execution_count": 9,
   "metadata": {},
   "outputs": [],
   "source": [
    "y_train = X_train_v2['exist_in_training_dataset']"
   ]
  },
  {
   "cell_type": "code",
   "execution_count": 10,
   "metadata": {},
   "outputs": [
    {
     "data": {
      "text/plain": [
       "343109"
      ]
     },
     "execution_count": 10,
     "metadata": {},
     "output_type": "execute_result"
    }
   ],
   "source": [
    "len(y_train)"
   ]
  },
  {
   "cell_type": "code",
   "execution_count": 11,
   "metadata": {},
   "outputs": [],
   "source": [
    "X_test_standardised = X_test.drop(['Id','Source','Sink'],axis=1).apply(lambda x: np.log(x+1))"
   ]
  },
  {
   "cell_type": "code",
   "execution_count": 12,
   "metadata": {},
   "outputs": [
    {
     "data": {
      "text/html": [
       "<div>\n",
       "<style>\n",
       "    .dataframe thead tr:only-child th {\n",
       "        text-align: right;\n",
       "    }\n",
       "\n",
       "    .dataframe thead th {\n",
       "        text-align: left;\n",
       "    }\n",
       "\n",
       "    .dataframe tbody tr th {\n",
       "        vertical-align: top;\n",
       "    }\n",
       "</style>\n",
       "<table border=\"1\" class=\"dataframe\">\n",
       "  <thead>\n",
       "    <tr style=\"text-align: right;\">\n",
       "      <th></th>\n",
       "      <th>AAprediction</th>\n",
       "      <th>common_neighbors</th>\n",
       "      <th>source_parents_count</th>\n",
       "      <th>source_non_leaf_descendants_count</th>\n",
       "      <th>source_leaf_descendans_count</th>\n",
       "      <th>sink_parent_non_leaf_descendants_count</th>\n",
       "      <th>sink_parent_leaf_descendans_count</th>\n",
       "      <th>sink_parents_count</th>\n",
       "    </tr>\n",
       "  </thead>\n",
       "  <tbody>\n",
       "    <tr>\n",
       "      <th>0</th>\n",
       "      <td>0.000000</td>\n",
       "      <td>0.000000</td>\n",
       "      <td>4.634729</td>\n",
       "      <td>4.189655</td>\n",
       "      <td>2.944439</td>\n",
       "      <td>7.902118</td>\n",
       "      <td>11.604684</td>\n",
       "      <td>1.386294</td>\n",
       "    </tr>\n",
       "    <tr>\n",
       "      <th>1</th>\n",
       "      <td>0.341960</td>\n",
       "      <td>1.609438</td>\n",
       "      <td>3.688879</td>\n",
       "      <td>4.787492</td>\n",
       "      <td>5.402677</td>\n",
       "      <td>12.095543</td>\n",
       "      <td>15.905984</td>\n",
       "      <td>5.669881</td>\n",
       "    </tr>\n",
       "    <tr>\n",
       "      <th>2</th>\n",
       "      <td>0.000000</td>\n",
       "      <td>0.000000</td>\n",
       "      <td>2.639057</td>\n",
       "      <td>4.204693</td>\n",
       "      <td>4.962845</td>\n",
       "      <td>8.130648</td>\n",
       "      <td>9.726512</td>\n",
       "      <td>1.098612</td>\n",
       "    </tr>\n",
       "    <tr>\n",
       "      <th>3</th>\n",
       "      <td>0.805984</td>\n",
       "      <td>2.079442</td>\n",
       "      <td>2.833213</td>\n",
       "      <td>3.891820</td>\n",
       "      <td>3.610918</td>\n",
       "      <td>7.733684</td>\n",
       "      <td>8.302762</td>\n",
       "      <td>3.218876</td>\n",
       "    </tr>\n",
       "    <tr>\n",
       "      <th>4</th>\n",
       "      <td>0.589348</td>\n",
       "      <td>1.945910</td>\n",
       "      <td>3.433987</td>\n",
       "      <td>4.248495</td>\n",
       "      <td>5.293305</td>\n",
       "      <td>10.629900</td>\n",
       "      <td>13.207203</td>\n",
       "      <td>5.111988</td>\n",
       "    </tr>\n",
       "  </tbody>\n",
       "</table>\n",
       "</div>"
      ],
      "text/plain": [
       "   AAprediction  common_neighbors  source_parents_count  \\\n",
       "0      0.000000          0.000000              4.634729   \n",
       "1      0.341960          1.609438              3.688879   \n",
       "2      0.000000          0.000000              2.639057   \n",
       "3      0.805984          2.079442              2.833213   \n",
       "4      0.589348          1.945910              3.433987   \n",
       "\n",
       "   source_non_leaf_descendants_count  source_leaf_descendans_count  \\\n",
       "0                           4.189655                      2.944439   \n",
       "1                           4.787492                      5.402677   \n",
       "2                           4.204693                      4.962845   \n",
       "3                           3.891820                      3.610918   \n",
       "4                           4.248495                      5.293305   \n",
       "\n",
       "   sink_parent_non_leaf_descendants_count  sink_parent_leaf_descendans_count  \\\n",
       "0                                7.902118                          11.604684   \n",
       "1                               12.095543                          15.905984   \n",
       "2                                8.130648                           9.726512   \n",
       "3                                7.733684                           8.302762   \n",
       "4                               10.629900                          13.207203   \n",
       "\n",
       "   sink_parents_count  \n",
       "0            1.386294  \n",
       "1            5.669881  \n",
       "2            1.098612  \n",
       "3            3.218876  \n",
       "4            5.111988  "
      ]
     },
     "execution_count": 12,
     "metadata": {},
     "output_type": "execute_result"
    }
   ],
   "source": [
    "X_test_standardised.head()"
   ]
  },
  {
   "cell_type": "markdown",
   "metadata": {},
   "source": [
    "# Training the model"
   ]
  },
  {
   "cell_type": "code",
   "execution_count": 13,
   "metadata": {},
   "outputs": [],
   "source": [
    "from sklearn.linear_model import LogisticRegression"
   ]
  },
  {
   "cell_type": "code",
   "execution_count": 14,
   "metadata": {},
   "outputs": [],
   "source": [
    "from sklearn.utils import shuffle"
   ]
  },
  {
   "cell_type": "code",
   "execution_count": 15,
   "metadata": {},
   "outputs": [],
   "source": [
    "X_train, Y_train = shuffle(X_train_standardised, y_train, random_state=0)"
   ]
  },
  {
   "cell_type": "code",
   "execution_count": 16,
   "metadata": {},
   "outputs": [
    {
     "name": "stderr",
     "output_type": "stream",
     "text": [
      "/Users/hima95/anaconda3/lib/python3.6/site-packages/ipykernel_launcher.py:1: SettingWithCopyWarning: \n",
      "A value is trying to be set on a copy of a slice from a DataFrame.\n",
      "Try using .loc[row_indexer,col_indexer] = value instead\n",
      "\n",
      "See the caveats in the documentation: http://pandas.pydata.org/pandas-docs/stable/indexing.html#indexing-view-versus-copy\n",
      "  \"\"\"Entry point for launching an IPython kernel.\n"
     ]
    }
   ],
   "source": [
    "X_train['sink_square'] = X_train['sink_parents_count'].apply(lambda x: x**2)"
   ]
  },
  {
   "cell_type": "code",
   "execution_count": 17,
   "metadata": {},
   "outputs": [],
   "source": [
    "X_test_standardised['sink_square'] = X_test_standardised['sink_parents_count'].apply(lambda x: x**2)"
   ]
  },
  {
   "cell_type": "code",
   "execution_count": 18,
   "metadata": {},
   "outputs": [],
   "source": [
    "# making sure columns for both feature matrices are the same"
   ]
  },
  {
   "cell_type": "code",
   "execution_count": 19,
   "metadata": {},
   "outputs": [],
   "source": [
    "X_test_standardised = X_test_standardised[list(X_train.columns)]"
   ]
  },
  {
   "cell_type": "code",
   "execution_count": 20,
   "metadata": {},
   "outputs": [
    {
     "data": {
      "text/plain": [
       "Index(['common_neighbors', 'AAprediction', 'source_parents_count',\n",
       "       'source_non_leaf_descendants_count', 'source_leaf_descendans_count',\n",
       "       'sink_parent_non_leaf_descendants_count',\n",
       "       'sink_parent_leaf_descendans_count', 'sink_parents_count',\n",
       "       'sink_square'],\n",
       "      dtype='object')"
      ]
     },
     "execution_count": 20,
     "metadata": {},
     "output_type": "execute_result"
    }
   ],
   "source": [
    "X_test_standardised.columns"
   ]
  },
  {
   "cell_type": "code",
   "execution_count": 21,
   "metadata": {},
   "outputs": [
    {
     "data": {
      "text/html": [
       "<div>\n",
       "<style>\n",
       "    .dataframe thead tr:only-child th {\n",
       "        text-align: right;\n",
       "    }\n",
       "\n",
       "    .dataframe thead th {\n",
       "        text-align: left;\n",
       "    }\n",
       "\n",
       "    .dataframe tbody tr th {\n",
       "        vertical-align: top;\n",
       "    }\n",
       "</style>\n",
       "<table border=\"1\" class=\"dataframe\">\n",
       "  <thead>\n",
       "    <tr style=\"text-align: right;\">\n",
       "      <th></th>\n",
       "      <th>common_neighbors</th>\n",
       "      <th>AAprediction</th>\n",
       "      <th>source_parents_count</th>\n",
       "      <th>source_non_leaf_descendants_count</th>\n",
       "      <th>source_leaf_descendans_count</th>\n",
       "      <th>sink_parent_non_leaf_descendants_count</th>\n",
       "      <th>sink_parent_leaf_descendans_count</th>\n",
       "      <th>sink_parents_count</th>\n",
       "      <th>sink_square</th>\n",
       "    </tr>\n",
       "  </thead>\n",
       "  <tbody>\n",
       "    <tr>\n",
       "      <th>7702</th>\n",
       "      <td>0.000000</td>\n",
       "      <td>0.000000</td>\n",
       "      <td>1.945910</td>\n",
       "      <td>2.995732</td>\n",
       "      <td>2.302585</td>\n",
       "      <td>6.159095</td>\n",
       "      <td>12.926222</td>\n",
       "      <td>0.693147</td>\n",
       "      <td>0.480453</td>\n",
       "    </tr>\n",
       "    <tr>\n",
       "      <th>171012</th>\n",
       "      <td>2.708050</td>\n",
       "      <td>0.818304</td>\n",
       "      <td>6.030685</td>\n",
       "      <td>6.284134</td>\n",
       "      <td>8.720134</td>\n",
       "      <td>10.134242</td>\n",
       "      <td>14.538171</td>\n",
       "      <td>3.332205</td>\n",
       "      <td>11.103587</td>\n",
       "    </tr>\n",
       "    <tr>\n",
       "      <th>265059</th>\n",
       "      <td>3.951244</td>\n",
       "      <td>2.744500</td>\n",
       "      <td>5.730100</td>\n",
       "      <td>5.950643</td>\n",
       "      <td>9.433724</td>\n",
       "      <td>10.365837</td>\n",
       "      <td>13.132078</td>\n",
       "      <td>4.007333</td>\n",
       "      <td>16.058719</td>\n",
       "    </tr>\n",
       "    <tr>\n",
       "      <th>175063</th>\n",
       "      <td>0.000000</td>\n",
       "      <td>0.000000</td>\n",
       "      <td>4.043051</td>\n",
       "      <td>3.583519</td>\n",
       "      <td>4.948760</td>\n",
       "      <td>5.129899</td>\n",
       "      <td>7.447751</td>\n",
       "      <td>0.693147</td>\n",
       "      <td>0.480453</td>\n",
       "    </tr>\n",
       "    <tr>\n",
       "      <th>91972</th>\n",
       "      <td>0.000000</td>\n",
       "      <td>0.000000</td>\n",
       "      <td>4.753590</td>\n",
       "      <td>4.897840</td>\n",
       "      <td>4.290459</td>\n",
       "      <td>7.327123</td>\n",
       "      <td>12.819595</td>\n",
       "      <td>0.693147</td>\n",
       "      <td>0.480453</td>\n",
       "    </tr>\n",
       "  </tbody>\n",
       "</table>\n",
       "</div>"
      ],
      "text/plain": [
       "        common_neighbors  AAprediction  source_parents_count  \\\n",
       "7702            0.000000      0.000000              1.945910   \n",
       "171012          2.708050      0.818304              6.030685   \n",
       "265059          3.951244      2.744500              5.730100   \n",
       "175063          0.000000      0.000000              4.043051   \n",
       "91972           0.000000      0.000000              4.753590   \n",
       "\n",
       "        source_non_leaf_descendants_count  source_leaf_descendans_count  \\\n",
       "7702                             2.995732                      2.302585   \n",
       "171012                           6.284134                      8.720134   \n",
       "265059                           5.950643                      9.433724   \n",
       "175063                           3.583519                      4.948760   \n",
       "91972                            4.897840                      4.290459   \n",
       "\n",
       "        sink_parent_non_leaf_descendants_count  \\\n",
       "7702                                  6.159095   \n",
       "171012                               10.134242   \n",
       "265059                               10.365837   \n",
       "175063                                5.129899   \n",
       "91972                                 7.327123   \n",
       "\n",
       "        sink_parent_leaf_descendans_count  sink_parents_count  sink_square  \n",
       "7702                            12.926222            0.693147     0.480453  \n",
       "171012                          14.538171            3.332205    11.103587  \n",
       "265059                          13.132078            4.007333    16.058719  \n",
       "175063                           7.447751            0.693147     0.480453  \n",
       "91972                           12.819595            0.693147     0.480453  "
      ]
     },
     "execution_count": 21,
     "metadata": {},
     "output_type": "execute_result"
    }
   ],
   "source": [
    "X_train.head()"
   ]
  },
  {
   "cell_type": "code",
   "execution_count": 22,
   "metadata": {},
   "outputs": [],
   "source": [
    "from sklearn.svm import SVC"
   ]
  },
  {
   "cell_type": "code",
   "execution_count": 23,
   "metadata": {},
   "outputs": [],
   "source": [
    "model = SVC(probability=True,kernel='rbf')"
   ]
  },
  {
   "cell_type": "code",
   "execution_count": null,
   "metadata": {},
   "outputs": [],
   "source": [
    "model.fit(X_train.drop('common_neighbors',axis=1),Y_train)"
   ]
  },
  {
   "cell_type": "code",
   "execution_count": null,
   "metadata": {},
   "outputs": [],
   "source": [
    "1/7"
   ]
  },
  {
   "cell_type": "code",
   "execution_count": null,
   "metadata": {},
   "outputs": [],
   "source": [
    "# implementing grid search to find the best parameters\n"
   ]
  },
  {
   "cell_type": "code",
   "execution_count": null,
   "metadata": {},
   "outputs": [],
   "source": [
    "param_grid = {'C': [0.1,1,0.5,10,100], 'gamma': [1,0.1,0.01,0.001,0.142857], 'kernel': ['rbf']} "
   ]
  },
  {
   "cell_type": "code",
   "execution_count": null,
   "metadata": {},
   "outputs": [],
   "source": [
    "from sklearn.model_selection import GridSearchCV"
   ]
  },
  {
   "cell_type": "markdown",
   "metadata": {},
   "source": [
    "One of the great things about GridSearchCV is that it is a meta-estimator. It takes an estimator like SVC, and creates a new estimator, that behaves exactly the same - in this case, like a classifier. You should add refit=True and choose verbose to whatever number you want, higher the number, the more verbose (verbose just means the text output describing the process)."
   ]
  },
  {
   "cell_type": "code",
   "execution_count": null,
   "metadata": {},
   "outputs": [],
   "source": [
    "grid = GridSearchCV(SVC(),param_grid,refit=True,verbose=3)"
   ]
  },
  {
   "cell_type": "markdown",
   "metadata": {},
   "source": [
    "What fit does is a bit more involved then usual. First, it runs the same loop with cross-validation, to find the best parameter combination. Once it has the best combination, it runs fit again on all data passed to fit (without cross-validation), to built a single new model using the best parameter setting."
   ]
  },
  {
   "cell_type": "code",
   "execution_count": null,
   "metadata": {
    "scrolled": true
   },
   "outputs": [],
   "source": [
    "# May take awhile!\n",
    "grid.fit(X_train,Y_train)"
   ]
  },
  {
   "cell_type": "markdown",
   "metadata": {},
   "source": [
    "You can inspect the best parameters found by GridSearchCV in the best_params_ attribute, and the best estimator in the best\\_estimator_ attribute:"
   ]
  },
  {
   "cell_type": "code",
   "execution_count": null,
   "metadata": {},
   "outputs": [],
   "source": [
    "grid.best_params_"
   ]
  },
  {
   "cell_type": "code",
   "execution_count": null,
   "metadata": {},
   "outputs": [],
   "source": [
    "grid.best_estimator_"
   ]
  },
  {
   "cell_type": "code",
   "execution_count": null,
   "metadata": {},
   "outputs": [],
   "source": []
  },
  {
   "cell_type": "code",
   "execution_count": null,
   "metadata": {},
   "outputs": [],
   "source": [
    "predictions = model.predict(X_test_standardised.drop('common_neighbors',axis=1))"
   ]
  },
  {
   "cell_type": "code",
   "execution_count": null,
   "metadata": {},
   "outputs": [],
   "source": [
    "sum(predictions)"
   ]
  },
  {
   "cell_type": "code",
   "execution_count": null,
   "metadata": {},
   "outputs": [],
   "source": [
    "len(predictions)"
   ]
  },
  {
   "cell_type": "code",
   "execution_count": null,
   "metadata": {},
   "outputs": [],
   "source": []
  },
  {
   "cell_type": "code",
   "execution_count": null,
   "metadata": {},
   "outputs": [],
   "source": []
  },
  {
   "cell_type": "code",
   "execution_count": null,
   "metadata": {},
   "outputs": [],
   "source": []
  }
 ],
 "metadata": {
  "kernelspec": {
   "display_name": "Python 3",
   "language": "python",
   "name": "python3"
  },
  "language_info": {
   "codemirror_mode": {
    "name": "ipython",
    "version": 3
   },
   "file_extension": ".py",
   "mimetype": "text/x-python",
   "name": "python",
   "nbconvert_exporter": "python",
   "pygments_lexer": "ipython3",
   "version": "3.6.3"
  }
 },
 "nbformat": 4,
 "nbformat_minor": 2
}
